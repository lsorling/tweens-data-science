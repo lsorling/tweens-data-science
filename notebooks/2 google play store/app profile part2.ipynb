{
  "nbformat": 4,
  "nbformat_minor": 0,
  "metadata": {
    "colab": {
      "name": "lesson 4.ipynb",
      "provenance": [],
      "collapsed_sections": []
    },
    "kernelspec": {
      "name": "python3",
      "display_name": "Python 3"
    }
  },
  "cells": [
    {
      "cell_type": "markdown",
      "metadata": {
        "id": "k9rASAHBytWj",
        "colab_type": "text"
      },
      "source": [
        "# Google Play Store Datset"
      ]
    },
    {
      "cell_type": "code",
      "metadata": {
        "id": "0x3iqU24Ah0q",
        "colab_type": "code",
        "colab": {}
      },
      "source": [
        "import pandas as pd\n",
        "df = pd.read_csv(\"googleplaystore.csv\")\n",
        "df"
      ],
      "execution_count": null,
      "outputs": []
    },
    {
      "cell_type": "markdown",
      "metadata": {
        "id": "32Hzj57pykPq",
        "colab_type": "text"
      },
      "source": [
        "## Chapter 1\n",
        "Data Exploration using Google Play Store 10K records.\n",
        "\n",
        "We will learn Pandas, and use it for Data Exploration."
      ]
    },
    {
      "cell_type": "code",
      "metadata": {
        "id": "UDIHjhgOz9CH",
        "colab_type": "code",
        "colab": {}
      },
      "source": [
        "df.info()"
      ],
      "execution_count": null,
      "outputs": []
    },
    {
      "cell_type": "code",
      "metadata": {
        "id": "x93Rd2fSyBht",
        "colab_type": "code",
        "colab": {}
      },
      "source": [
        "df.head()"
      ],
      "execution_count": null,
      "outputs": []
    },
    {
      "cell_type": "code",
      "metadata": {
        "id": "TEDsELSdy28z",
        "colab_type": "code",
        "colab": {}
      },
      "source": [
        "df.head(n=15)"
      ],
      "execution_count": null,
      "outputs": []
    },
    {
      "cell_type": "code",
      "metadata": {
        "id": "7Lf6Caoh2UjO",
        "colab_type": "code",
        "colab": {}
      },
      "source": [
        "df.tail()"
      ],
      "execution_count": null,
      "outputs": []
    },
    {
      "cell_type": "code",
      "metadata": {
        "id": "AL42O1PI4iNK",
        "colab_type": "code",
        "colab": {}
      },
      "source": [
        "df['App'] # this line of code remind me of python dictionary"
      ],
      "execution_count": null,
      "outputs": []
    },
    {
      "cell_type": "code",
      "metadata": {
        "id": "2PvLzs8C6sVL",
        "colab_type": "code",
        "colab": {}
      },
      "source": [
        "df['Installs'] # the output remind me of python list"
      ],
      "execution_count": null,
      "outputs": []
    },
    {
      "cell_type": "code",
      "metadata": {
        "id": "If6XZjF45pUv",
        "colab_type": "code",
        "colab": {}
      },
      "source": [
        "df['Category'].describe() # descriptive statistics (for numeric columns)"
      ],
      "execution_count": null,
      "outputs": []
    },
    {
      "cell_type": "code",
      "metadata": {
        "id": "EKLeTJKW8NY3",
        "colab_type": "code",
        "colab": {}
      },
      "source": [
        "df['Rating'].value_counts() # categorical values"
      ],
      "execution_count": null,
      "outputs": []
    },
    {
      "cell_type": "code",
      "metadata": {
        "id": "MMOvO2ji2Ot-",
        "colab_type": "code",
        "colab": {}
      },
      "source": [
        "df[\"Installs\"].unique()"
      ],
      "execution_count": null,
      "outputs": []
    },
    {
      "cell_type": "code",
      "metadata": {
        "id": "1cWzDmobBbGR",
        "colab_type": "code",
        "colab": {}
      },
      "source": [
        "df[\"Installs\"].value_counts()"
      ],
      "execution_count": null,
      "outputs": []
    },
    {
      "cell_type": "markdown",
      "metadata": {
        "id": "MAKQjoT3zR4P",
        "colab_type": "text"
      },
      "source": [
        "### Pandas Plots"
      ]
    },
    {
      "cell_type": "code",
      "metadata": {
        "id": "Ea0bLZg39C6l",
        "colab_type": "code",
        "colab": {}
      },
      "source": [
        "# magic function that renders the figure in a notebook \n",
        "# (instead of displaying a dump of the figure object).\n",
        "%matplotlib inline"
      ],
      "execution_count": null,
      "outputs": []
    },
    {
      "cell_type": "code",
      "metadata": {
        "id": "COFYB2IEDEf9",
        "colab_type": "code",
        "colab": {}
      },
      "source": [
        "df[\"Category\"].value_counts()"
      ],
      "execution_count": null,
      "outputs": []
    },
    {
      "cell_type": "code",
      "metadata": {
        "id": "dv5j5UZEC4rT",
        "colab_type": "code",
        "colab": {}
      },
      "source": [
        "df[\"Category\"].value_counts().plot(kind='bar', figsize=(10, 10))"
      ],
      "execution_count": null,
      "outputs": []
    },
    {
      "cell_type": "code",
      "metadata": {
        "id": "6DU1TEnv9GhW",
        "colab_type": "code",
        "colab": {}
      },
      "source": [
        "# checking Rating\n",
        "df[\"Rating\"].plot(kind='box', figsize=(10, 5))"
      ],
      "execution_count": null,
      "outputs": []
    },
    {
      "cell_type": "markdown",
      "metadata": {
        "id": "pCe-M1F4zXYt",
        "colab_type": "text"
      },
      "source": [
        "### Select some rows by..."
      ]
    },
    {
      "cell_type": "code",
      "metadata": {
        "id": "EdwtQq2g3MLy",
        "colab_type": "code",
        "colab": {}
      },
      "source": [
        "df.iloc[10001:10010] # row data with list slicing"
      ],
      "execution_count": null,
      "outputs": []
    },
    {
      "cell_type": "code",
      "metadata": {
        "id": "jAU9ZHu95JCd",
        "colab_type": "code",
        "colab": {}
      },
      "source": [
        "# how many rows, how many columns\n",
        "df.shape"
      ],
      "execution_count": null,
      "outputs": []
    },
    {
      "cell_type": "code",
      "metadata": {
        "id": "EQ3Ov31D_vdv",
        "colab_type": "code",
        "colab": {}
      },
      "source": [
        "df[df.Rating >= 19.0] # filtering"
      ],
      "execution_count": null,
      "outputs": []
    },
    {
      "cell_type": "code",
      "metadata": {
        "id": "kBh0f-3zzxei",
        "colab_type": "code",
        "colab": {}
      },
      "source": [
        "df[df.Installs == '1,000,000,000+']"
      ],
      "execution_count": null,
      "outputs": []
    },
    {
      "cell_type": "markdown",
      "metadata": {
        "id": "a2K3XQeCyHdq",
        "colab_type": "text"
      },
      "source": [
        "## Chapter 2\n",
        "We will learn how to...\n",
        "\n",
        "* remove duplicates\n",
        "* reduce columns\n",
        "* filtering by remove some rows that matched some rules\n",
        "* remove NaN (what is NaN?)\n",
        "* sorting\n",
        "\n",
        "Derive your conclusion for App Profiling."
      ]
    },
    {
      "cell_type": "code",
      "metadata": {
        "id": "CzyLT94r_SEd",
        "colab_type": "code",
        "colab": {}
      },
      "source": [
        "df[df.App == 'ROBLOX'] # filtering"
      ],
      "execution_count": null,
      "outputs": []
    },
    {
      "cell_type": "markdown",
      "metadata": {
        "id": "Vd10R0ZU1gmx",
        "colab_type": "text"
      },
      "source": [
        "### Remove Duplicates"
      ]
    },
    {
      "cell_type": "code",
      "metadata": {
        "id": "WRQOz8Ud20q_",
        "colab_type": "code",
        "colab": {
          "base_uri": "https://localhost:8080/",
          "height": 34
        },
        "outputId": "5bdd9bb2-0554-4c91-fbc2-f03b70a40702"
      },
      "source": [
        "# to remove duplicates\n",
        "columns_to_be_selected = ['App', 'Category', 'Genres', 'Rating', 'Reviews', 'Price']\n",
        "cleaned = df[columns_to_be_selected]\n",
        "\n",
        "from pandas import DataFrame\n",
        "cleaned = DataFrame.drop_duplicates(cleaned)\n",
        "len(cleaned)"
      ],
      "execution_count": null,
      "outputs": [
        {
          "output_type": "execute_result",
          "data": {
            "text/plain": [
              "10356"
            ]
          },
          "metadata": {
            "tags": []
          },
          "execution_count": 30
        }
      ]
    },
    {
      "cell_type": "code",
      "metadata": {
        "id": "u2MyS5Cz3Ztk",
        "colab_type": "code",
        "colab": {}
      },
      "source": [
        "cleaned[cleaned.App == 'ROBLOX'] # filtering"
      ],
      "execution_count": null,
      "outputs": []
    },
    {
      "cell_type": "markdown",
      "metadata": {
        "id": "wllQlz6r1cfv",
        "colab_type": "text"
      },
      "source": [
        "### Sorting Columns"
      ]
    },
    {
      "cell_type": "code",
      "metadata": {
        "id": "rsJphfVZ45Y0",
        "colab_type": "code",
        "colab": {}
      },
      "source": [
        "# sorting\n",
        "family = [12, 3, 4, 6, 7, 9]\n",
        "print(sorted(family))  # from smallest to larger value (ASCENDING)\n",
        "for item in reversed(sorted(family)):  # from largest value to smaller (DESCENDING)\n",
        "    print(item)"
      ],
      "execution_count": null,
      "outputs": []
    },
    {
      "cell_type": "code",
      "metadata": {
        "id": "HA9cOX2B7FBG",
        "colab_type": "code",
        "colab": {}
      },
      "source": [
        "cleaned.info()"
      ],
      "execution_count": null,
      "outputs": []
    },
    {
      "cell_type": "code",
      "metadata": {
        "id": "CRn7dEVCxXyC",
        "colab_type": "code",
        "colab": {}
      },
      "source": [
        "cleaned.sort_values(by='Rating', ascending=False)"
      ],
      "execution_count": null,
      "outputs": []
    },
    {
      "cell_type": "code",
      "metadata": {
        "id": "AwqiWXNj6sTx",
        "colab_type": "code",
        "colab": {}
      },
      "source": [
        "cleaned = cleaned.sort_values(by=['Reviews', 'Rating'], ascending=False)\n",
        "cleaned.head(n=20)"
      ],
      "execution_count": null,
      "outputs": []
    },
    {
      "cell_type": "code",
      "metadata": {
        "id": "G9XE4HU28DqP",
        "colab_type": "code",
        "colab": {}
      },
      "source": [
        "# removed rows with free App\n",
        "cleaned = cleaned[cleaned.Price != '0']\n",
        "cleaned"
      ],
      "execution_count": null,
      "outputs": []
    },
    {
      "cell_type": "code",
      "metadata": {
        "id": "SDQEKH0E9Jaz",
        "colab_type": "code",
        "colab": {}
      },
      "source": [
        "# removed rows with NaN for Rating\n",
        "cleaned = cleaned[pd.isnull(cleaned.Rating) == False]\n",
        "cleaned"
      ],
      "execution_count": null,
      "outputs": []
    },
    {
      "cell_type": "code",
      "metadata": {
        "id": "ARKryovb1oDE",
        "colab_type": "code",
        "colab": {}
      },
      "source": [
        "# select Top 20\n",
        "cleaned.head(n=20)"
      ],
      "execution_count": null,
      "outputs": []
    },
    {
      "cell_type": "markdown",
      "metadata": {
        "id": "iYoe255B1MyP",
        "colab_type": "text"
      },
      "source": [
        "### Data Error\n",
        "\n",
        "If Rating = 19.0"
      ]
    },
    {
      "cell_type": "code",
      "metadata": {
        "id": "3OAeQJBvhTKA",
        "colab_type": "code",
        "colab": {}
      },
      "source": [
        "df.iloc[10472]"
      ],
      "execution_count": null,
      "outputs": []
    },
    {
      "cell_type": "code",
      "metadata": {
        "id": "oV1GQEhoAmfA",
        "colab_type": "code",
        "colab": {}
      },
      "source": [
        "#df = df.drop(df.index[10472]) # savi data error"
      ],
      "execution_count": null,
      "outputs": []
    },
    {
      "cell_type": "markdown",
      "metadata": {
        "id": "HhiSQE1o0bJl",
        "colab_type": "text"
      },
      "source": [
        "### Interesting App Names\n",
        "\n",
        "* Find letter count in each App Name\n",
        "* Find word count in each App Name\n",
        "* Add NEW columns to Pandas DataFrame"
      ]
    },
    {
      "cell_type": "code",
      "metadata": {
        "id": "Zo17b7mvDvKo",
        "colab_type": "code",
        "colab": {}
      },
      "source": [
        "# app title\n",
        "# step1: letter count in app title\n",
        "# step2: word count in app title (string.split() method)\n",
        "\n",
        "letter_count = []\n",
        "word_count = []\n",
        "\n",
        "for item in df['App']:\n",
        "    #print(item)\n",
        "    #print('letter count', len(item)) # including whitespace\n",
        "    counter = 0\n",
        "    for letter in item:\n",
        "        if letter == ' ':\n",
        "            pass\n",
        "        else:\n",
        "            counter = counter + 1\n",
        "    \n",
        "    #words = 0\n",
        "    words = item.split()\n",
        "    #print(item, ', with letter count', counter, 'with word count=', len(words))\n",
        "    letter_count.append(counter)\n",
        "    word_count.append(len(words))\n",
        "    #break"
      ],
      "execution_count": null,
      "outputs": []
    },
    {
      "cell_type": "code",
      "metadata": {
        "id": "HCiWeinbIK3W",
        "colab_type": "code",
        "colab": {
          "base_uri": "https://localhost:8080/",
          "height": 34
        },
        "outputId": "2745d32f-129b-47c6-bcf7-7f1f2a698356"
      },
      "source": [
        "print(len(letter_count))"
      ],
      "execution_count": null,
      "outputs": [
        {
          "output_type": "stream",
          "text": [
            "10841\n"
          ],
          "name": "stdout"
        }
      ]
    },
    {
      "cell_type": "markdown",
      "metadata": {
        "id": "s7ggrUNT2c8G",
        "colab_type": "text"
      },
      "source": [
        "### Add NEW Columns to DataFrame"
      ]
    },
    {
      "cell_type": "code",
      "metadata": {
        "id": "_zgpZZ9xIYsk",
        "colab_type": "code",
        "colab": {}
      },
      "source": [
        "df['App_letterCnt'] = letter_count\n",
        "df['App_wordCnt'] = word_count"
      ],
      "execution_count": null,
      "outputs": []
    },
    {
      "cell_type": "code",
      "metadata": {
        "id": "pCHBuQf-IrVp",
        "colab_type": "code",
        "colab": {
          "base_uri": "https://localhost:8080/",
          "height": 397
        },
        "outputId": "c6ad846e-2ebf-4273-81ce-827550d7f15b"
      },
      "source": [
        "df.info()"
      ],
      "execution_count": null,
      "outputs": [
        {
          "output_type": "stream",
          "text": [
            "<class 'pandas.core.frame.DataFrame'>\n",
            "RangeIndex: 10841 entries, 0 to 10840\n",
            "Data columns (total 15 columns):\n",
            " #   Column          Non-Null Count  Dtype  \n",
            "---  ------          --------------  -----  \n",
            " 0   App             10841 non-null  object \n",
            " 1   Category        10841 non-null  object \n",
            " 2   Rating          9367 non-null   float64\n",
            " 3   Reviews         10841 non-null  int64  \n",
            " 4   Size            10841 non-null  object \n",
            " 5   Installs        10841 non-null  object \n",
            " 6   Type            10840 non-null  object \n",
            " 7   Price           10841 non-null  object \n",
            " 8   Content Rating  10841 non-null  object \n",
            " 9   Genres          10841 non-null  object \n",
            " 10  Last Updated    10841 non-null  object \n",
            " 11  Current Ver     10833 non-null  object \n",
            " 12  Android Ver     10839 non-null  object \n",
            " 13  App_letterCnt   10841 non-null  int64  \n",
            " 14  App_wordCnt     10841 non-null  int64  \n",
            "dtypes: float64(1), int64(3), object(11)\n",
            "memory usage: 1.2+ MB\n"
          ],
          "name": "stdout"
        }
      ]
    },
    {
      "cell_type": "code",
      "metadata": {
        "id": "DnHfF4XqItVQ",
        "colab_type": "code",
        "colab": {
          "base_uri": "https://localhost:8080/",
          "height": 544
        },
        "outputId": "52bef932-7231-444a-a4f1-82e373e720fe"
      },
      "source": [
        "df.head()"
      ],
      "execution_count": null,
      "outputs": [
        {
          "output_type": "execute_result",
          "data": {
            "text/html": [
              "<div>\n",
              "<style scoped>\n",
              "    .dataframe tbody tr th:only-of-type {\n",
              "        vertical-align: middle;\n",
              "    }\n",
              "\n",
              "    .dataframe tbody tr th {\n",
              "        vertical-align: top;\n",
              "    }\n",
              "\n",
              "    .dataframe thead th {\n",
              "        text-align: right;\n",
              "    }\n",
              "</style>\n",
              "<table border=\"1\" class=\"dataframe\">\n",
              "  <thead>\n",
              "    <tr style=\"text-align: right;\">\n",
              "      <th></th>\n",
              "      <th>App</th>\n",
              "      <th>Category</th>\n",
              "      <th>Rating</th>\n",
              "      <th>Reviews</th>\n",
              "      <th>Size</th>\n",
              "      <th>Installs</th>\n",
              "      <th>Type</th>\n",
              "      <th>Price</th>\n",
              "      <th>Content Rating</th>\n",
              "      <th>Genres</th>\n",
              "      <th>Last Updated</th>\n",
              "      <th>Current Ver</th>\n",
              "      <th>Android Ver</th>\n",
              "      <th>App_letterCnt</th>\n",
              "      <th>App_wordCnt</th>\n",
              "    </tr>\n",
              "  </thead>\n",
              "  <tbody>\n",
              "    <tr>\n",
              "      <th>0</th>\n",
              "      <td>Photo Editor &amp; Candy Camera &amp; Grid &amp; ScrapBook</td>\n",
              "      <td>ART_AND_DESIGN</td>\n",
              "      <td>4.1</td>\n",
              "      <td>159</td>\n",
              "      <td>19M</td>\n",
              "      <td>10,000+</td>\n",
              "      <td>Free</td>\n",
              "      <td>0</td>\n",
              "      <td>Everyone</td>\n",
              "      <td>Art &amp; Design</td>\n",
              "      <td>January 7, 2018</td>\n",
              "      <td>1.0.0</td>\n",
              "      <td>4.0.3 and up</td>\n",
              "      <td>38</td>\n",
              "      <td>9</td>\n",
              "    </tr>\n",
              "    <tr>\n",
              "      <th>1</th>\n",
              "      <td>Coloring book moana</td>\n",
              "      <td>ART_AND_DESIGN</td>\n",
              "      <td>3.9</td>\n",
              "      <td>967</td>\n",
              "      <td>14M</td>\n",
              "      <td>500,000+</td>\n",
              "      <td>Free</td>\n",
              "      <td>0</td>\n",
              "      <td>Everyone</td>\n",
              "      <td>Art &amp; Design;Pretend Play</td>\n",
              "      <td>January 15, 2018</td>\n",
              "      <td>2.0.0</td>\n",
              "      <td>4.0.3 and up</td>\n",
              "      <td>17</td>\n",
              "      <td>3</td>\n",
              "    </tr>\n",
              "    <tr>\n",
              "      <th>2</th>\n",
              "      <td>U Launcher Lite – FREE Live Cool Themes, Hide ...</td>\n",
              "      <td>ART_AND_DESIGN</td>\n",
              "      <td>4.7</td>\n",
              "      <td>87510</td>\n",
              "      <td>8.7M</td>\n",
              "      <td>5,000,000+</td>\n",
              "      <td>Free</td>\n",
              "      <td>0</td>\n",
              "      <td>Everyone</td>\n",
              "      <td>Art &amp; Design</td>\n",
              "      <td>August 1, 2018</td>\n",
              "      <td>1.2.4</td>\n",
              "      <td>4.0.3 and up</td>\n",
              "      <td>41</td>\n",
              "      <td>10</td>\n",
              "    </tr>\n",
              "    <tr>\n",
              "      <th>3</th>\n",
              "      <td>Sketch - Draw &amp; Paint</td>\n",
              "      <td>ART_AND_DESIGN</td>\n",
              "      <td>4.5</td>\n",
              "      <td>215644</td>\n",
              "      <td>25M</td>\n",
              "      <td>50,000,000+</td>\n",
              "      <td>Free</td>\n",
              "      <td>0</td>\n",
              "      <td>Teen</td>\n",
              "      <td>Art &amp; Design</td>\n",
              "      <td>June 8, 2018</td>\n",
              "      <td>Varies with device</td>\n",
              "      <td>4.2 and up</td>\n",
              "      <td>17</td>\n",
              "      <td>5</td>\n",
              "    </tr>\n",
              "    <tr>\n",
              "      <th>4</th>\n",
              "      <td>Pixel Draw - Number Art Coloring Book</td>\n",
              "      <td>ART_AND_DESIGN</td>\n",
              "      <td>4.3</td>\n",
              "      <td>967</td>\n",
              "      <td>2.8M</td>\n",
              "      <td>100,000+</td>\n",
              "      <td>Free</td>\n",
              "      <td>0</td>\n",
              "      <td>Everyone</td>\n",
              "      <td>Art &amp; Design;Creativity</td>\n",
              "      <td>June 20, 2018</td>\n",
              "      <td>1.1</td>\n",
              "      <td>4.4 and up</td>\n",
              "      <td>31</td>\n",
              "      <td>7</td>\n",
              "    </tr>\n",
              "  </tbody>\n",
              "</table>\n",
              "</div>"
            ],
            "text/plain": [
              "                                                 App  ... App_wordCnt\n",
              "0     Photo Editor & Candy Camera & Grid & ScrapBook  ...           9\n",
              "1                                Coloring book moana  ...           3\n",
              "2  U Launcher Lite – FREE Live Cool Themes, Hide ...  ...          10\n",
              "3                              Sketch - Draw & Paint  ...           5\n",
              "4              Pixel Draw - Number Art Coloring Book  ...           7\n",
              "\n",
              "[5 rows x 15 columns]"
            ]
          },
          "metadata": {
            "tags": []
          },
          "execution_count": 90
        }
      ]
    },
    {
      "cell_type": "markdown",
      "metadata": {
        "id": "vQ4QgN6xx-MU",
        "colab_type": "text"
      },
      "source": [
        "## Chapter 3\n",
        "\n",
        "* output to csv file for top 20 apps"
      ]
    }
  ]
}