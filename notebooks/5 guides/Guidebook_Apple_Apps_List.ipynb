{
  "nbformat": 4,
  "nbformat_minor": 0,
  "metadata": {
    "colab": {
      "name": "Guidebook Apple Apps List.ipynb",
      "provenance": [],
      "collapsed_sections": []
    },
    "kernelspec": {
      "name": "python3",
      "display_name": "Python 3"
    }
  },
  "cells": [
    {
      "cell_type": "markdown",
      "metadata": {
        "id": "UBMEpbjKOYBi",
        "colab_type": "text"
      },
      "source": [
        "# Lesson 2\n",
        "\n",
        "> We are learning about CSV, **\"Comma Separated Values\"**.  Did you notice in Python List, each data value is also separated using \"comma\".  8 variables with List of data values are provided for you.\n",
        "\n",
        "> This data is on apps listed in Apple App Store.\n",
        "\n",
        "> It is important to take note of the data types.  There are both Strings and Integers.  There is another number data type named \"float\".  **\"Float\"** is commonly used to represent numbers with decimal places.  For example like currency $3.50 is stored as 3.50 in Python variable.\n",
        "\n"
      ]
    },
    {
      "cell_type": "code",
      "metadata": {
        "id": "Q43EGPWSOSSO",
        "colab_type": "code",
        "colab": {}
      },
      "source": [
        "# data in CSV format\n",
        "header = ['app_name','currency','price','rating_count','rating','genre']\n",
        "d1 = ['Plants vs. Zombies HD','USD',0.99,163598,5,'Games']\n",
        "d2 = ['ROBLOX','USD',0,183621,4.5,'Games']\n",
        "d3 = ['Candy Crush Soda Saga','USD',0,133394,4.5,'Games']\n",
        "d4 = ['Instagram','USD',0,2161558,4.5,'Photo & Video']\n",
        "d5 = ['Spotify Music','USD',0,878563,4.5,'Music']\n",
        "d6 = ['Fruit Ninja Classic','USD',1.99,698516,4.5,'Games']\n",
        "d7 = ['Minecraft: Pocket Edition','USD',6.99,522012,4.5,'Games']"
      ],
      "execution_count": null,
      "outputs": []
    },
    {
      "cell_type": "markdown",
      "metadata": {
        "id": "q5TlewVgZjrY",
        "colab_type": "text"
      },
      "source": [
        "Your task is to use the variables above, and find the answers to these questions:\n",
        "\n",
        "\n",
        "1.   For each app, find out the price in Singapore Dollar (Hint: you will have to look for exchange rate from USD to SGD)\n",
        "\n",
        "2.   Find the total rating_count for all these apps.\n",
        "\n",
        "3.   Find the average rating value for these apps.\n",
        "\n",
        "\n",
        "Submit your colab notebook (.ipynb) file for grading.\n",
        "\n"
      ]
    },
    {
      "cell_type": "code",
      "metadata": {
        "id": "PEH13NcFOXMb",
        "colab_type": "code",
        "colab": {}
      },
      "source": [
        ""
      ],
      "execution_count": null,
      "outputs": []
    }
  ]
}