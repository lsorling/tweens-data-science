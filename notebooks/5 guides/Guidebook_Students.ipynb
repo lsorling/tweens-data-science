{
  "nbformat": 4,
  "nbformat_minor": 0,
  "metadata": {
    "colab": {
      "name": "Guidebook Students.ipynb",
      "provenance": []
    },
    "kernelspec": {
      "name": "python3",
      "display_name": "Python 3"
    }
  },
  "cells": [
    {
      "cell_type": "markdown",
      "metadata": {
        "id": "hymfFNxxna66",
        "colab_type": "text"
      },
      "source": [
        "# Python Pandas"
      ]
    },
    {
      "cell_type": "code",
      "metadata": {
        "id": "dUEmvaJ7m3oh",
        "colab_type": "code",
        "colab": {}
      },
      "source": [
        "filename = \"students.csv\""
      ],
      "execution_count": null,
      "outputs": []
    },
    {
      "cell_type": "markdown",
      "metadata": {
        "id": "Z00PEtwhns8A",
        "colab_type": "text"
      },
      "source": [
        "1.    Learn to use Pandas to read in CSV file"
      ]
    },
    {
      "cell_type": "markdown",
      "metadata": {
        "id": "f25SB1EFnyX4",
        "colab_type": "text"
      },
      "source": [
        "2.    Find out how many rows and columns in this dataset."
      ]
    },
    {
      "cell_type": "markdown",
      "metadata": {
        "id": "zON267Hhn34o",
        "colab_type": "text"
      },
      "source": [
        "3.   Check that data types of each columns is handled by Pandas (automatically)"
      ]
    },
    {
      "cell_type": "markdown",
      "metadata": {
        "id": "Q74vkaRIoBPQ",
        "colab_type": "text"
      },
      "source": [
        "## Let's learn about Pandas Data Structures\n",
        "\n",
        "*    Series\n",
        "*    DataFrame"
      ]
    },
    {
      "cell_type": "markdown",
      "metadata": {
        "id": "xuW40BeFpGb5",
        "colab_type": "text"
      },
      "source": [
        "## Pandas Series\n",
        "\n",
        "*   String/Text Values\n",
        "*   Integer/Number Values\n",
        "\n"
      ]
    },
    {
      "cell_type": "code",
      "metadata": {
        "id": "VhoySmKNpXsu",
        "colab_type": "code",
        "colab": {}
      },
      "source": [
        "names = [\"sally\", \"dave\", \"john\", \"dylan\", \"joey\", \"anne\"]\n",
        "cca = [\"basketball\", \"NCC\", \"NCC\", \"basketball\", \"red cross\", \"robotics\"]\n",
        "\n",
        "year = [2010, 2011, 2012, 2013, 2014, 2015]\n",
        "height = [150, 151, 151, 153, 154, 156]"
      ],
      "execution_count": null,
      "outputs": []
    },
    {
      "cell_type": "markdown",
      "metadata": {
        "id": "8JrxZGNWpR7a",
        "colab_type": "text"
      },
      "source": [
        "## Plot Line Graphs and Bar Graphs for Pandas Series"
      ]
    },
    {
      "cell_type": "markdown",
      "metadata": {
        "id": "GOJSGSBApxf-",
        "colab_type": "text"
      },
      "source": [
        "### Pie Charts ideal for Categorical Data Values for example Gender, Nationality"
      ]
    },
    {
      "cell_type": "code",
      "metadata": {
        "id": "SGdJO45RqJWV",
        "colab_type": "code",
        "colab": {}
      },
      "source": [
        "gender = \"F\", \"M\", \"M\", \"M\", \"F\", \"F\"]\n",
        "nationality = [\"Singaporean\", \"Korean\", \"Japanese\", \"Singaporean\", \"Japanese\", \"Singaporean\"]"
      ],
      "execution_count": null,
      "outputs": []
    },
    {
      "cell_type": "markdown",
      "metadata": {
        "id": "1vXN3XgGpoHa",
        "colab_type": "text"
      },
      "source": [
        "### Histogram ideal for Age Groups"
      ]
    },
    {
      "cell_type": "code",
      "metadata": {
        "id": "z-xuw-QjqsNV",
        "colab_type": "code",
        "colab": {}
      },
      "source": [
        "age = [10, 20, 14, 22, 24, 12]"
      ],
      "execution_count": null,
      "outputs": []
    },
    {
      "cell_type": "markdown",
      "metadata": {
        "id": "UVeERmazp4Lf",
        "colab_type": "text"
      },
      "source": [
        "### Box Plots ideal for Test Scores and GPA"
      ]
    },
    {
      "cell_type": "code",
      "metadata": {
        "id": "T6bqGE3Cq1aS",
        "colab_type": "code",
        "colab": {}
      },
      "source": [
        "scores = [60, 89, 90, 92, 60, 75]\n",
        "gpa = [3.0, 3.1, 3.9, 4.0, 3.3, 3.5]"
      ],
      "execution_count": null,
      "outputs": []
    }
  ]
}