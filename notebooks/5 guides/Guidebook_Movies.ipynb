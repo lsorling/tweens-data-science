{
  "nbformat": 4,
  "nbformat_minor": 0,
  "metadata": {
    "colab": {
      "name": "Guidebook Movies.ipynb",
      "provenance": [],
      "collapsed_sections": []
    },
    "kernelspec": {
      "name": "python3",
      "display_name": "Python 3"
    }
  },
  "cells": [
    {
      "cell_type": "markdown",
      "metadata": {
        "id": "k_IkstTQd4lG",
        "colab_type": "text"
      },
      "source": [
        "# Let's talk about Movies.\n",
        "\n",
        "1.   Goto https://www.kaggle.com/carolzhangdc/imdb-5000-movie-dataset and download the movie_metadata.csv file.  \n",
        "\n",
        "2.   Upload that file for this Colab notebook\n",
        "\n",
        "In movies, what is \"budget\" and what is \"gross\"?  Do you know?\n",
        "\n",
        "We would like to find the **answers** for the following questions:\n",
        "\n",
        "1.    Find out the total gross for all movies launched in year 2014.\n",
        "2.    Find out the total gross for all movies launched in year 2016.\n",
        "3.    Which year did better? Is it year 2014 or 2016?"
      ]
    },
    {
      "cell_type": "markdown",
      "metadata": {
        "id": "MDtx4IOAgBu9",
        "colab_type": "text"
      },
      "source": [
        "\n",
        "\n",
        "---\n",
        "\n"
      ]
    },
    {
      "cell_type": "markdown",
      "metadata": {
        "id": "F_MLeVijeNsp",
        "colab_type": "text"
      },
      "source": [
        "Step 1: Use csv module to read this csv file"
      ]
    },
    {
      "cell_type": "markdown",
      "metadata": {
        "id": "a5bm6rLPgkZp",
        "colab_type": "text"
      },
      "source": [
        ""
      ]
    },
    {
      "cell_type": "code",
      "metadata": {
        "id": "B3vop7umgbGM",
        "colab_type": "code",
        "colab": {}
      },
      "source": [
        ""
      ],
      "execution_count": null,
      "outputs": []
    },
    {
      "cell_type": "markdown",
      "metadata": {
        "id": "IFF1xTVOeTrT",
        "colab_type": "text"
      },
      "source": [
        "Step 2: Find out how many rows and how columns this csv file has"
      ]
    },
    {
      "cell_type": "code",
      "metadata": {
        "id": "nZVZkU0sgaq8",
        "colab_type": "code",
        "colab": {}
      },
      "source": [
        ""
      ],
      "execution_count": null,
      "outputs": []
    },
    {
      "cell_type": "markdown",
      "metadata": {
        "id": "oLgZgDUpfA2M",
        "colab_type": "text"
      },
      "source": [
        "Step 3: Get the header columns to a List variable"
      ]
    },
    {
      "cell_type": "code",
      "metadata": {
        "id": "_2KBj4kTgaPc",
        "colab_type": "code",
        "colab": {}
      },
      "source": [
        ""
      ],
      "execution_count": null,
      "outputs": []
    },
    {
      "cell_type": "markdown",
      "metadata": {
        "id": "HsMaIX57eag0",
        "colab_type": "text"
      },
      "source": [
        "Step 4: Find out the column indexes for the following columns\n",
        "\n",
        "1.   movie_title\n",
        "2.   gross\n",
        "3.   title_year"
      ]
    },
    {
      "cell_type": "code",
      "metadata": {
        "id": "NR6-gcIwgZqE",
        "colab_type": "code",
        "colab": {}
      },
      "source": [
        ""
      ],
      "execution_count": null,
      "outputs": []
    },
    {
      "cell_type": "markdown",
      "metadata": {
        "id": "b8WKQwBYfIJ8",
        "colab_type": "text"
      },
      "source": [
        "Step 5: Get all the data rows out to a Nested List variable named \"dataset\".\n",
        "\n",
        "For example:\n",
        "\n",
        "\n",
        "```\n",
        "row1 = [100,200,300]\n",
        "row2 = [12,23,34]\n",
        "row3 = [12344,232455,35567]\n",
        "dataset = [row1, row2, row3] # this one is a Nested List variable\n",
        "```\n",
        "\n"
      ]
    },
    {
      "cell_type": "code",
      "metadata": {
        "id": "Kiyehh3CgYn5",
        "colab_type": "code",
        "colab": {}
      },
      "source": [
        ""
      ],
      "execution_count": null,
      "outputs": []
    },
    {
      "cell_type": "markdown",
      "metadata": {
        "id": "E0puduFpfRBM",
        "colab_type": "text"
      },
      "source": [
        "Answer these questions:\n",
        "\n",
        "1.    Find out the total gross for all movies launched in year 2014.\n",
        "2.    Find out the total gross for all movies launched in year 2016.\n",
        "3.    Which year did better? Is it year 2014 or 2016?"
      ]
    },
    {
      "cell_type": "code",
      "metadata": {
        "id": "fT_UsiM-dwhu",
        "colab_type": "code",
        "colab": {}
      },
      "source": [
        ""
      ],
      "execution_count": null,
      "outputs": []
    }
  ]
}