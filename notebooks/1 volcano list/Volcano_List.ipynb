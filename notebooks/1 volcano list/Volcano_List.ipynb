{
  "nbformat": 4,
  "nbformat_minor": 0,
  "metadata": {
    "colab": {
      "name": "Volcano List.ipynb",
      "provenance": []
    },
    "kernelspec": {
      "name": "python3",
      "display_name": "Python 3"
    }
  },
  "cells": [
    {
      "cell_type": "markdown",
      "metadata": {
        "id": "pQrLdM59D-7D",
        "colab_type": "text"
      },
      "source": [
        "# Code with me: Data Exploration with Pandas using Volcano.csv file"
      ]
    },
    {
      "cell_type": "code",
      "metadata": {
        "id": "dxILvSIBGN-o",
        "colab_type": "code",
        "colab": {}
      },
      "source": [
        "# Target Age Group: Teens with Python coding background"
      ],
      "execution_count": null,
      "outputs": []
    },
    {
      "cell_type": "markdown",
      "metadata": {
        "id": "M7SWDOAp8LWD",
        "colab_type": "text"
      },
      "source": [
        "Note: This dataset has no date of last eurption.  it is a list of known volcano with location data on on global volcanic hazard, historical events, population exposure, vulnerability, and impact has been provided to GAR15 by Global Volcano Model (GVM) and The International Association of Volcanology and Chemistry of the Earth’s Interior (IAVCEI).\n",
        "\n",
        "Download data from <a href=\"https://data.humdata.org/dataset/a60ac839-920d-435a-bf7d-25855602699d\">here</a>"
      ]
    },
    {
      "cell_type": "markdown",
      "metadata": {
        "id": "aBTzwHNcFTxS",
        "colab_type": "text"
      },
      "source": [
        "# Panda Cheatsheet"
      ]
    },
    {
      "cell_type": "code",
      "metadata": {
        "id": "nK26ryXuFXfN",
        "colab_type": "code",
        "colab": {}
      },
      "source": [
        "# Pandas Basic\n",
        "# http://datacamp-community-prod.s3.amazonaws.com/dbed353d-2757-4617-8206-8767ab379ab3\n",
        "\n",
        "# Pandas Data Wrangling\n",
        "# https://pandas.pydata.org/Pandas_Cheat_Sheet.pdf"
      ],
      "execution_count": null,
      "outputs": []
    },
    {
      "cell_type": "markdown",
      "metadata": {
        "id": "lI6nVpQsEJjD",
        "colab_type": "text"
      },
      "source": [
        "## How to use Pandas to read CSV file?"
      ]
    },
    {
      "cell_type": "code",
      "metadata": {
        "id": "jD49KwkC5OIq",
        "colab_type": "code",
        "colab": {
          "base_uri": "https://localhost:8080/",
          "height": 620
        },
        "outputId": "4a08e494-b437-41f9-fb13-11c52d35544e"
      },
      "source": [
        "import pandas as pd\n",
        "df = pd.read_csv(\"volcano.csv\")\n",
        "df"
      ],
      "execution_count": 4,
      "outputs": [
        {
          "output_type": "execute_result",
          "data": {
            "text/html": [
              "<div>\n",
              "<style scoped>\n",
              "    .dataframe tbody tr th:only-of-type {\n",
              "        vertical-align: middle;\n",
              "    }\n",
              "\n",
              "    .dataframe tbody tr th {\n",
              "        vertical-align: top;\n",
              "    }\n",
              "\n",
              "    .dataframe thead th {\n",
              "        text-align: right;\n",
              "    }\n",
              "</style>\n",
              "<table border=\"1\" class=\"dataframe\">\n",
              "  <thead>\n",
              "    <tr style=\"text-align: right;\">\n",
              "      <th></th>\n",
              "      <th>VolcanoID</th>\n",
              "      <th>V_Name</th>\n",
              "      <th>Country</th>\n",
              "      <th>Region</th>\n",
              "      <th>Subregion</th>\n",
              "      <th>Latitude</th>\n",
              "      <th>Longitude</th>\n",
              "      <th>PEI</th>\n",
              "      <th>H_active</th>\n",
              "      <th>VEI_Holoce</th>\n",
              "      <th>hazard</th>\n",
              "      <th>class</th>\n",
              "      <th>risk</th>\n",
              "    </tr>\n",
              "  </thead>\n",
              "  <tbody>\n",
              "    <tr>\n",
              "      <th>0</th>\n",
              "      <td>210010</td>\n",
              "      <td>West Eifel Volcanic Field</td>\n",
              "      <td>Germany</td>\n",
              "      <td>Mediterranean and W Asia</td>\n",
              "      <td>Western Europe</td>\n",
              "      <td>50.170</td>\n",
              "      <td>6.85</td>\n",
              "      <td>6</td>\n",
              "      <td>0</td>\n",
              "      <td>Unknown VEI</td>\n",
              "      <td>NaN</td>\n",
              "      <td>U-HR</td>\n",
              "      <td>NaN</td>\n",
              "    </tr>\n",
              "    <tr>\n",
              "      <th>1</th>\n",
              "      <td>210020</td>\n",
              "      <td>Cha?ne des Puys</td>\n",
              "      <td>France</td>\n",
              "      <td>Mediterranean and W Asia</td>\n",
              "      <td>Western Europe</td>\n",
              "      <td>45.775</td>\n",
              "      <td>2.97</td>\n",
              "      <td>7</td>\n",
              "      <td>0</td>\n",
              "      <td>Unknown VEI</td>\n",
              "      <td>NaN</td>\n",
              "      <td>U-HR</td>\n",
              "      <td>NaN</td>\n",
              "    </tr>\n",
              "    <tr>\n",
              "      <th>2</th>\n",
              "      <td>210030</td>\n",
              "      <td>Olot Volcanic Field</td>\n",
              "      <td>Spain</td>\n",
              "      <td>Mediterranean and W Asia</td>\n",
              "      <td>Western Europe</td>\n",
              "      <td>42.170</td>\n",
              "      <td>2.53</td>\n",
              "      <td>5</td>\n",
              "      <td>0</td>\n",
              "      <td>No confirmed eruptions</td>\n",
              "      <td>NaN</td>\n",
              "      <td>U-NHHR</td>\n",
              "      <td>NaN</td>\n",
              "    </tr>\n",
              "    <tr>\n",
              "      <th>3</th>\n",
              "      <td>210040</td>\n",
              "      <td>Calatrava Volcanic Field</td>\n",
              "      <td>Spain</td>\n",
              "      <td>Mediterranean and W Asia</td>\n",
              "      <td>Western Europe</td>\n",
              "      <td>38.870</td>\n",
              "      <td>-4.02</td>\n",
              "      <td>6</td>\n",
              "      <td>0</td>\n",
              "      <td>Unknown VEI</td>\n",
              "      <td>NaN</td>\n",
              "      <td>U-HR</td>\n",
              "      <td>NaN</td>\n",
              "    </tr>\n",
              "    <tr>\n",
              "      <th>4</th>\n",
              "      <td>211001</td>\n",
              "      <td>Larderello</td>\n",
              "      <td>Italy</td>\n",
              "      <td>Mediterranean and W Asia</td>\n",
              "      <td>Italy</td>\n",
              "      <td>43.250</td>\n",
              "      <td>10.87</td>\n",
              "      <td>4</td>\n",
              "      <td>0</td>\n",
              "      <td>3</td>\n",
              "      <td>NaN</td>\n",
              "      <td>U-HR</td>\n",
              "      <td>NaN</td>\n",
              "    </tr>\n",
              "    <tr>\n",
              "      <th>...</th>\n",
              "      <td>...</td>\n",
              "      <td>...</td>\n",
              "      <td>...</td>\n",
              "      <td>...</td>\n",
              "      <td>...</td>\n",
              "      <td>...</td>\n",
              "      <td>...</td>\n",
              "      <td>...</td>\n",
              "      <td>...</td>\n",
              "      <td>...</td>\n",
              "      <td>...</td>\n",
              "      <td>...</td>\n",
              "      <td>...</td>\n",
              "    </tr>\n",
              "    <tr>\n",
              "      <th>1541</th>\n",
              "      <td>390100</td>\n",
              "      <td>Candlemas Island</td>\n",
              "      <td>United Kingdom</td>\n",
              "      <td>Antarctica</td>\n",
              "      <td>Antarctica and South Sandwich Islands</td>\n",
              "      <td>-57.080</td>\n",
              "      <td>-26.67</td>\n",
              "      <td>1</td>\n",
              "      <td>1</td>\n",
              "      <td>2</td>\n",
              "      <td>NaN</td>\n",
              "      <td>U-HHR</td>\n",
              "      <td>NaN</td>\n",
              "    </tr>\n",
              "    <tr>\n",
              "      <th>1542</th>\n",
              "      <td>390110</td>\n",
              "      <td>Hodson</td>\n",
              "      <td>United Kingdom</td>\n",
              "      <td>Antarctica</td>\n",
              "      <td>Antarctica and South Sandwich Islands</td>\n",
              "      <td>-56.700</td>\n",
              "      <td>-27.15</td>\n",
              "      <td>1</td>\n",
              "      <td>0</td>\n",
              "      <td>No confirmed eruptions</td>\n",
              "      <td>NaN</td>\n",
              "      <td>U-NHHR</td>\n",
              "      <td>NaN</td>\n",
              "    </tr>\n",
              "    <tr>\n",
              "      <th>1543</th>\n",
              "      <td>390120</td>\n",
              "      <td>Leskov Island</td>\n",
              "      <td>United Kingdom</td>\n",
              "      <td>Antarctica</td>\n",
              "      <td>Antarctica and South Sandwich Islands</td>\n",
              "      <td>-56.670</td>\n",
              "      <td>-28.13</td>\n",
              "      <td>1</td>\n",
              "      <td>0</td>\n",
              "      <td>No confirmed eruptions</td>\n",
              "      <td>NaN</td>\n",
              "      <td>U-NHHR</td>\n",
              "      <td>NaN</td>\n",
              "    </tr>\n",
              "    <tr>\n",
              "      <th>1544</th>\n",
              "      <td>390130</td>\n",
              "      <td>Zavodovski</td>\n",
              "      <td>United Kingdom</td>\n",
              "      <td>Antarctica</td>\n",
              "      <td>Antarctica and South Sandwich Islands</td>\n",
              "      <td>-56.300</td>\n",
              "      <td>-27.57</td>\n",
              "      <td>1</td>\n",
              "      <td>1</td>\n",
              "      <td>2</td>\n",
              "      <td>NaN</td>\n",
              "      <td>U-HHR</td>\n",
              "      <td>NaN</td>\n",
              "    </tr>\n",
              "    <tr>\n",
              "      <th>1545</th>\n",
              "      <td>390140</td>\n",
              "      <td>Protector Shoal</td>\n",
              "      <td>United Kingdom</td>\n",
              "      <td>Antarctica</td>\n",
              "      <td>Antarctica and South Sandwich Islands</td>\n",
              "      <td>-55.920</td>\n",
              "      <td>-28.08</td>\n",
              "      <td>1</td>\n",
              "      <td>1</td>\n",
              "      <td>0</td>\n",
              "      <td>NaN</td>\n",
              "      <td>U-HHR</td>\n",
              "      <td>NaN</td>\n",
              "    </tr>\n",
              "  </tbody>\n",
              "</table>\n",
              "<p>1546 rows × 13 columns</p>\n",
              "</div>"
            ],
            "text/plain": [
              "      VolcanoID                     V_Name  ...   class risk\n",
              "0        210010  West Eifel Volcanic Field  ...    U-HR  NaN\n",
              "1        210020            Cha?ne des Puys  ...    U-HR  NaN\n",
              "2        210030        Olot Volcanic Field  ...  U-NHHR  NaN\n",
              "3        210040   Calatrava Volcanic Field  ...    U-HR  NaN\n",
              "4        211001                 Larderello  ...    U-HR  NaN\n",
              "...         ...                        ...  ...     ...  ...\n",
              "1541     390100           Candlemas Island  ...   U-HHR  NaN\n",
              "1542     390110                     Hodson  ...  U-NHHR  NaN\n",
              "1543     390120              Leskov Island  ...  U-NHHR  NaN\n",
              "1544     390130                 Zavodovski  ...   U-HHR  NaN\n",
              "1545     390140            Protector Shoal  ...   U-HHR  NaN\n",
              "\n",
              "[1546 rows x 13 columns]"
            ]
          },
          "metadata": {
            "tags": []
          },
          "execution_count": 4
        }
      ]
    },
    {
      "cell_type": "markdown",
      "metadata": {
        "id": "Z89lj1n9EOih",
        "colab_type": "text"
      },
      "source": [
        "## What is a Pandas DataFrame?"
      ]
    },
    {
      "cell_type": "code",
      "metadata": {
        "id": "ivC1Rmzb5yic",
        "colab_type": "code",
        "colab": {
          "base_uri": "https://localhost:8080/",
          "height": 353
        },
        "outputId": "73ce299e-eb52-4393-a8fc-40242d264965"
      },
      "source": [
        "df.info()"
      ],
      "execution_count": 5,
      "outputs": [
        {
          "output_type": "stream",
          "text": [
            "<class 'pandas.core.frame.DataFrame'>\n",
            "RangeIndex: 1546 entries, 0 to 1545\n",
            "Data columns (total 13 columns):\n",
            " #   Column      Non-Null Count  Dtype  \n",
            "---  ------      --------------  -----  \n",
            " 0   VolcanoID   1546 non-null   int64  \n",
            " 1   V_Name      1546 non-null   object \n",
            " 2   Country     1546 non-null   object \n",
            " 3   Region      1546 non-null   object \n",
            " 4   Subregion   1546 non-null   object \n",
            " 5   Latitude    1546 non-null   float64\n",
            " 6   Longitude   1546 non-null   float64\n",
            " 7   PEI         1546 non-null   int64  \n",
            " 8   H_active    1546 non-null   int64  \n",
            " 9   VEI_Holoce  1546 non-null   object \n",
            " 10  hazard      328 non-null    float64\n",
            " 11  class       1218 non-null   object \n",
            " 12  risk        328 non-null    float64\n",
            "dtypes: float64(4), int64(3), object(6)\n",
            "memory usage: 157.1+ KB\n"
          ],
          "name": "stdout"
        }
      ]
    },
    {
      "cell_type": "markdown",
      "metadata": {
        "id": "8svdgqrlESmK",
        "colab_type": "text"
      },
      "source": [
        "## How to get the list of unique values from a Column?"
      ]
    },
    {
      "cell_type": "code",
      "metadata": {
        "id": "rCY-6YCt53V1",
        "colab_type": "code",
        "colab": {
          "base_uri": "https://localhost:8080/",
          "height": 353
        },
        "outputId": "529bdf71-88df-4419-e10f-e71dd9ee784d"
      },
      "source": [
        "# how many volcano in each region\n",
        "df[\"Region\"].value_counts()"
      ],
      "execution_count": 10,
      "outputs": [
        {
          "output_type": "execute_result",
          "data": {
            "text/plain": [
              "South America                   197\n",
              "Indonesia                       145\n",
              "Japan, Taiwan, Marianas         143\n",
              "Africa and Red Sea              141\n",
              "Kamchatka and Mainland Asia     140\n",
              "M?xico and Central America      118\n",
              "Alaska                           92\n",
              "Melanesia and Australia          83\n",
              "Canada and Western USA           70\n",
              "Philippines and SE Asia          59\n",
              "Middle East and Indian Ocean     56\n",
              "New Zealand to Fiji              56\n",
              "Kuril Islands                    48\n",
              "Mediterranean and W Asia         46\n",
              "Atlantic Ocean                   37\n",
              "Hawaii and Pacific Ocean         34\n",
              "Iceland and Arctic Ocean         33\n",
              "Antarctica                       32\n",
              "West Indies                      16\n",
              "Name: Region, dtype: int64"
            ]
          },
          "metadata": {
            "tags": []
          },
          "execution_count": 10
        }
      ]
    },
    {
      "cell_type": "markdown",
      "metadata": {
        "id": "3UeJ4BR2Dup0",
        "colab_type": "text"
      },
      "source": [
        "## How to select data subset from DataFrame?"
      ]
    },
    {
      "cell_type": "code",
      "metadata": {
        "id": "aTOdYjUI6t7f",
        "colab_type": "code",
        "colab": {
          "base_uri": "https://localhost:8080/",
          "height": 402
        },
        "outputId": "14f99dde-e8d2-45a4-9047-959abac20dd6"
      },
      "source": [
        "df[df.Country == 'Indonesia']"
      ],
      "execution_count": 17,
      "outputs": [
        {
          "output_type": "execute_result",
          "data": {
            "text/html": [
              "<div>\n",
              "<style scoped>\n",
              "    .dataframe tbody tr th:only-of-type {\n",
              "        vertical-align: middle;\n",
              "    }\n",
              "\n",
              "    .dataframe tbody tr th {\n",
              "        vertical-align: top;\n",
              "    }\n",
              "\n",
              "    .dataframe thead th {\n",
              "        text-align: right;\n",
              "    }\n",
              "</style>\n",
              "<table border=\"1\" class=\"dataframe\">\n",
              "  <thead>\n",
              "    <tr style=\"text-align: right;\">\n",
              "      <th></th>\n",
              "      <th>VolcanoID</th>\n",
              "      <th>V_Name</th>\n",
              "      <th>Country</th>\n",
              "      <th>Region</th>\n",
              "      <th>Subregion</th>\n",
              "      <th>Latitude</th>\n",
              "      <th>Longitude</th>\n",
              "      <th>PEI</th>\n",
              "      <th>H_active</th>\n",
              "      <th>VEI_Holoce</th>\n",
              "      <th>hazard</th>\n",
              "      <th>class</th>\n",
              "      <th>risk</th>\n",
              "    </tr>\n",
              "  </thead>\n",
              "  <tbody>\n",
              "    <tr>\n",
              "      <th>384</th>\n",
              "      <td>261020</td>\n",
              "      <td>Seulawah Agam</td>\n",
              "      <td>Indonesia</td>\n",
              "      <td>Indonesia</td>\n",
              "      <td>Sumatra</td>\n",
              "      <td>5.448</td>\n",
              "      <td>95.658</td>\n",
              "      <td>4</td>\n",
              "      <td>1</td>\n",
              "      <td>2</td>\n",
              "      <td>NaN</td>\n",
              "      <td>U-HHR</td>\n",
              "      <td>NaN</td>\n",
              "    </tr>\n",
              "    <tr>\n",
              "      <th>385</th>\n",
              "      <td>261030</td>\n",
              "      <td>Peuet Sague</td>\n",
              "      <td>Indonesia</td>\n",
              "      <td>Indonesia</td>\n",
              "      <td>Sumatra</td>\n",
              "      <td>4.914</td>\n",
              "      <td>96.329</td>\n",
              "      <td>3</td>\n",
              "      <td>1</td>\n",
              "      <td>2</td>\n",
              "      <td>2.0</td>\n",
              "      <td>NaN</td>\n",
              "      <td>2.0</td>\n",
              "    </tr>\n",
              "    <tr>\n",
              "      <th>386</th>\n",
              "      <td>261050</td>\n",
              "      <td>Telong, Bur ni</td>\n",
              "      <td>Indonesia</td>\n",
              "      <td>Indonesia</td>\n",
              "      <td>Sumatra</td>\n",
              "      <td>4.769</td>\n",
              "      <td>96.821</td>\n",
              "      <td>5</td>\n",
              "      <td>1</td>\n",
              "      <td>2</td>\n",
              "      <td>1.0</td>\n",
              "      <td>NaN</td>\n",
              "      <td>2.0</td>\n",
              "    </tr>\n",
              "    <tr>\n",
              "      <th>387</th>\n",
              "      <td>261070</td>\n",
              "      <td>Sibayak</td>\n",
              "      <td>Indonesia</td>\n",
              "      <td>Indonesia</td>\n",
              "      <td>Sumatra</td>\n",
              "      <td>3.230</td>\n",
              "      <td>98.520</td>\n",
              "      <td>5</td>\n",
              "      <td>1</td>\n",
              "      <td>Unknown VEI</td>\n",
              "      <td>NaN</td>\n",
              "      <td>U-HHR</td>\n",
              "      <td>NaN</td>\n",
              "    </tr>\n",
              "    <tr>\n",
              "      <th>388</th>\n",
              "      <td>261080</td>\n",
              "      <td>Sinabung</td>\n",
              "      <td>Indonesia</td>\n",
              "      <td>Indonesia</td>\n",
              "      <td>Sumatra</td>\n",
              "      <td>3.170</td>\n",
              "      <td>98.392</td>\n",
              "      <td>5</td>\n",
              "      <td>1</td>\n",
              "      <td>2</td>\n",
              "      <td>NaN</td>\n",
              "      <td>U-HHR</td>\n",
              "      <td>NaN</td>\n",
              "    </tr>\n",
              "    <tr>\n",
              "      <th>...</th>\n",
              "      <td>...</td>\n",
              "      <td>...</td>\n",
              "      <td>...</td>\n",
              "      <td>...</td>\n",
              "      <td>...</td>\n",
              "      <td>...</td>\n",
              "      <td>...</td>\n",
              "      <td>...</td>\n",
              "      <td>...</td>\n",
              "      <td>...</td>\n",
              "      <td>...</td>\n",
              "      <td>...</td>\n",
              "      <td>...</td>\n",
              "    </tr>\n",
              "    <tr>\n",
              "      <th>521</th>\n",
              "      <td>268063</td>\n",
              "      <td>Moti</td>\n",
              "      <td>Indonesia</td>\n",
              "      <td>Indonesia</td>\n",
              "      <td>Halmahera</td>\n",
              "      <td>0.450</td>\n",
              "      <td>127.400</td>\n",
              "      <td>3</td>\n",
              "      <td>0</td>\n",
              "      <td>No confirmed eruptions</td>\n",
              "      <td>NaN</td>\n",
              "      <td>U-NHHR</td>\n",
              "      <td>NaN</td>\n",
              "    </tr>\n",
              "    <tr>\n",
              "      <th>522</th>\n",
              "      <td>268070</td>\n",
              "      <td>Makian</td>\n",
              "      <td>Indonesia</td>\n",
              "      <td>Indonesia</td>\n",
              "      <td>Halmahera</td>\n",
              "      <td>0.320</td>\n",
              "      <td>127.400</td>\n",
              "      <td>3</td>\n",
              "      <td>1</td>\n",
              "      <td>4</td>\n",
              "      <td>3.0</td>\n",
              "      <td>NaN</td>\n",
              "      <td>2.0</td>\n",
              "    </tr>\n",
              "    <tr>\n",
              "      <th>523</th>\n",
              "      <td>268071</td>\n",
              "      <td>Tigalalu</td>\n",
              "      <td>Indonesia</td>\n",
              "      <td>Indonesia</td>\n",
              "      <td>Halmahera</td>\n",
              "      <td>0.070</td>\n",
              "      <td>127.420</td>\n",
              "      <td>3</td>\n",
              "      <td>0</td>\n",
              "      <td>No confirmed eruptions</td>\n",
              "      <td>NaN</td>\n",
              "      <td>U-NHHR</td>\n",
              "      <td>NaN</td>\n",
              "    </tr>\n",
              "    <tr>\n",
              "      <th>524</th>\n",
              "      <td>268072</td>\n",
              "      <td>Amasing</td>\n",
              "      <td>Indonesia</td>\n",
              "      <td>Indonesia</td>\n",
              "      <td>Halmahera</td>\n",
              "      <td>-0.530</td>\n",
              "      <td>127.480</td>\n",
              "      <td>2</td>\n",
              "      <td>0</td>\n",
              "      <td>No confirmed eruptions</td>\n",
              "      <td>NaN</td>\n",
              "      <td>U-NHHR</td>\n",
              "      <td>NaN</td>\n",
              "    </tr>\n",
              "    <tr>\n",
              "      <th>525</th>\n",
              "      <td>268073</td>\n",
              "      <td>Bibinoi</td>\n",
              "      <td>Indonesia</td>\n",
              "      <td>Indonesia</td>\n",
              "      <td>Halmahera</td>\n",
              "      <td>-0.770</td>\n",
              "      <td>127.720</td>\n",
              "      <td>3</td>\n",
              "      <td>0</td>\n",
              "      <td>No confirmed eruptions</td>\n",
              "      <td>NaN</td>\n",
              "      <td>U-NHHR</td>\n",
              "      <td>NaN</td>\n",
              "    </tr>\n",
              "  </tbody>\n",
              "</table>\n",
              "<p>142 rows × 13 columns</p>\n",
              "</div>"
            ],
            "text/plain": [
              "     VolcanoID          V_Name    Country  ... hazard   class  risk\n",
              "384     261020   Seulawah Agam  Indonesia  ...    NaN   U-HHR   NaN\n",
              "385     261030     Peuet Sague  Indonesia  ...    2.0     NaN   2.0\n",
              "386     261050  Telong, Bur ni  Indonesia  ...    1.0     NaN   2.0\n",
              "387     261070         Sibayak  Indonesia  ...    NaN   U-HHR   NaN\n",
              "388     261080        Sinabung  Indonesia  ...    NaN   U-HHR   NaN\n",
              "..         ...             ...        ...  ...    ...     ...   ...\n",
              "521     268063            Moti  Indonesia  ...    NaN  U-NHHR   NaN\n",
              "522     268070          Makian  Indonesia  ...    3.0     NaN   2.0\n",
              "523     268071        Tigalalu  Indonesia  ...    NaN  U-NHHR   NaN\n",
              "524     268072         Amasing  Indonesia  ...    NaN  U-NHHR   NaN\n",
              "525     268073         Bibinoi  Indonesia  ...    NaN  U-NHHR   NaN\n",
              "\n",
              "[142 rows x 13 columns]"
            ]
          },
          "metadata": {
            "tags": []
          },
          "execution_count": 17
        }
      ]
    },
    {
      "cell_type": "markdown",
      "metadata": {
        "id": "cyVlCEq5Dppp",
        "colab_type": "text"
      },
      "source": [
        "## How to save to CSV file using Pandas?"
      ]
    },
    {
      "cell_type": "code",
      "metadata": {
        "id": "TzqP3CRc7noe",
        "colab_type": "code",
        "colab": {}
      },
      "source": [
        "indon = df[df.Country == 'Indonesia']\n",
        "indon.to_csv(\"indonesia_v.csv\")"
      ],
      "execution_count": 18,
      "outputs": []
    },
    {
      "cell_type": "markdown",
      "metadata": {
        "id": "J6hpW0Z0DflQ",
        "colab_type": "text"
      },
      "source": [
        "# Map with Geographical Information"
      ]
    },
    {
      "cell_type": "markdown",
      "metadata": {
        "id": "Tr3NlDEEDYZ4",
        "colab_type": "text"
      },
      "source": [
        "## How to embed a map in Notebook?"
      ]
    },
    {
      "cell_type": "code",
      "metadata": {
        "id": "sDC17yUf8mtW",
        "colab_type": "code",
        "colab": {}
      },
      "source": [
        "import folium\n",
        "\n",
        "# The default tiles are set to OpenStreetMap, but Stamen Terrain, Stamen Toner, Mapbox Bright, and Mapbox Control Room, and many others tiles are built in.\n",
        "\n",
        "m = folium.Map(location=[5.5236, 95.6750], tiles='Stamen Terrain', zoom_start=5)\n",
        "m"
      ],
      "execution_count": null,
      "outputs": []
    },
    {
      "cell_type": "markdown",
      "metadata": {
        "id": "0bv6oPcIDUka",
        "colab_type": "text"
      },
      "source": [
        "## How to add a map marker?"
      ]
    },
    {
      "cell_type": "code",
      "metadata": {
        "id": "HkMX1ae59ssb",
        "colab_type": "code",
        "colab": {}
      },
      "source": [
        "tooltip = 'Click me!'\n",
        "\t\t\n",
        "# test\n",
        "folium.Marker([3.170, 98.392], popup='<i>Mt Sinabung in Sumatra</i>', tooltip=tooltip).add_to(m)\n",
        "folium.Marker([0.070, 127.420], popup='<b>Mt Tigalalu in Halmahera</b>', tooltip=tooltip).add_to(m)\n",
        "m"
      ],
      "execution_count": null,
      "outputs": []
    },
    {
      "cell_type": "markdown",
      "metadata": {
        "id": "pzDnQw0gDPn-",
        "colab_type": "text"
      },
      "source": [
        "# DataFrame: Subset"
      ]
    },
    {
      "cell_type": "markdown",
      "metadata": {
        "id": "39RfpqLRC7iJ",
        "colab_type": "text"
      },
      "source": [
        "## How to get the count of records from a DataFrame?"
      ]
    },
    {
      "cell_type": "code",
      "metadata": {
        "id": "6D1Y7TKW-aBw",
        "colab_type": "code",
        "colab": {
          "base_uri": "https://localhost:8080/",
          "height": 34
        },
        "outputId": "31c63688-d0ce-4143-c514-314f96cd1380"
      },
      "source": [
        "indon.VolcanoID.count()"
      ],
      "execution_count": 44,
      "outputs": [
        {
          "output_type": "execute_result",
          "data": {
            "text/plain": [
              "142"
            ]
          },
          "metadata": {
            "tags": []
          },
          "execution_count": 44
        }
      ]
    },
    {
      "cell_type": "markdown",
      "metadata": {
        "id": "PsIBMLOTC157",
        "colab_type": "text"
      },
      "source": [
        "## How to get each row of record by the index?"
      ]
    },
    {
      "cell_type": "code",
      "metadata": {
        "id": "ttFkkVh5_ivL",
        "colab_type": "code",
        "colab": {
          "base_uri": "https://localhost:8080/",
          "height": 252
        },
        "outputId": "177de84f-13ab-4813-9881-c263aad6e15b"
      },
      "source": [
        "indon.iloc[0]"
      ],
      "execution_count": 43,
      "outputs": [
        {
          "output_type": "execute_result",
          "data": {
            "text/plain": [
              "VolcanoID            261020\n",
              "V_Name        Seulawah Agam\n",
              "Country           Indonesia\n",
              "Region            Indonesia\n",
              "Subregion           Sumatra\n",
              "Latitude              5.448\n",
              "Longitude            95.658\n",
              "PEI                       4\n",
              "H_active                  1\n",
              "VEI_Holoce                2\n",
              "hazard                  NaN\n",
              "class                 U-HHR\n",
              "risk                    NaN\n",
              "Name: 384, dtype: object"
            ]
          },
          "metadata": {
            "tags": []
          },
          "execution_count": 43
        }
      ]
    },
    {
      "cell_type": "markdown",
      "metadata": {
        "id": "nyzt98HeDCgr",
        "colab_type": "text"
      },
      "source": [
        "## How to get the attribute from a Python object?"
      ]
    },
    {
      "cell_type": "code",
      "metadata": {
        "id": "pFEvAb2U_pkS",
        "colab_type": "code",
        "colab": {
          "base_uri": "https://localhost:8080/",
          "height": 34
        },
        "outputId": "192ce8a4-f2d4-4201-d263-6576730a9414"
      },
      "source": [
        "indon.iloc[0].Latitude"
      ],
      "execution_count": 48,
      "outputs": [
        {
          "output_type": "execute_result",
          "data": {
            "text/plain": [
              "5.448"
            ]
          },
          "metadata": {
            "tags": []
          },
          "execution_count": 48
        }
      ]
    },
    {
      "cell_type": "markdown",
      "metadata": {
        "id": "ERVl2r5NDHku",
        "colab_type": "text"
      },
      "source": [
        "# Use a FOR loop"
      ]
    },
    {
      "cell_type": "markdown",
      "metadata": {
        "id": "msGHGii5CrZt",
        "colab_type": "text"
      },
      "source": [
        "## Test with 5 Markers"
      ]
    },
    {
      "cell_type": "code",
      "metadata": {
        "id": "oeUSJD-a_m2r",
        "colab_type": "code",
        "colab": {}
      },
      "source": [
        "# lets use a for loop\n",
        "tooltip = 'Click me!'\n",
        "\n",
        "total = indon.VolcanoID.count()\n",
        "\n",
        "for index in range(total):\n",
        "    record = indon.iloc[index]\n",
        "\n",
        "    lat       = record.Latitude\n",
        "    lon       = record.Longitude\n",
        "    vname     = record.V_Name\n",
        "    subregion = record.Subregion\n",
        "\n",
        "    formatted = \"<i>Mt {} in {}</i>\".format(vname, subregion)\n",
        "\n",
        "    folium.Marker([lat, lon], popup=formatted, tooltip=tooltip).add_to(m)\n",
        "    if index == 5: break # test 5 markers\n",
        "\n",
        "m"
      ],
      "execution_count": null,
      "outputs": []
    },
    {
      "cell_type": "markdown",
      "metadata": {
        "id": "iGGC7rB0CwUD",
        "colab_type": "text"
      },
      "source": [
        "## Complete Codes"
      ]
    },
    {
      "cell_type": "code",
      "metadata": {
        "id": "aKzAixhlCNzE",
        "colab_type": "code",
        "colab": {}
      },
      "source": [
        "# complete codes\n",
        "import folium\n",
        "\n",
        "# The default tiles are set to OpenStreetMap, but Stamen Terrain, Stamen Toner, Mapbox Bright, and Mapbox Control Room, and many others tiles are built in.\n",
        "\n",
        "m = folium.Map(location=[5.5236, 95.6750], tiles='Stamen Terrain', zoom_start=5)\n",
        "tooltip = 'Click me!'\n",
        "\n",
        "total = indon.VolcanoID.count()\n",
        "\n",
        "for index in range(total):\n",
        "    record = indon.iloc[index]\n",
        "\n",
        "    lat       = record.Latitude\n",
        "    lon       = record.Longitude\n",
        "    vname     = record.V_Name\n",
        "    subregion = record.Subregion\n",
        "\n",
        "    formatted = \"<i>Mt {} in {}</i>\".format(vname, subregion)\n",
        "\n",
        "    folium.Marker([lat, lon], popup=formatted, tooltip=tooltip).add_to(m)\n",
        "    # if index == 5: break # test 5 markers\n",
        "\n",
        "m"
      ],
      "execution_count": null,
      "outputs": []
    },
    {
      "cell_type": "markdown",
      "metadata": {
        "id": "yW9ge8rLD1qQ",
        "colab_type": "text"
      },
      "source": [
        "# Coding Challenge"
      ]
    },
    {
      "cell_type": "code",
      "metadata": {
        "id": "WpY1Mn70CV9h",
        "colab_type": "code",
        "colab": {}
      },
      "source": [
        "# we have completed the map for Indonesia.\n",
        "\n",
        "# challenge\n",
        "# can you do the map for all the volcanoes in the world?"
      ],
      "execution_count": null,
      "outputs": []
    }
  ]
}